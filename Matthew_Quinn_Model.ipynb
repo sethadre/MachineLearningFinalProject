{
  "nbformat": 4,
  "nbformat_minor": 0,
  "metadata": {
    "colab": {
      "name": "Matthew Quinn Model.ipynb",
      "provenance": [],
      "collapsed_sections": []
    },
    "kernelspec": {
      "name": "python3",
      "display_name": "Python 3"
    },
    "language_info": {
      "name": "python"
    },
    "accelerator": "GPU"
  },
  "cells": [
    {
      "cell_type": "code",
      "source": [
        "! pip install kaggle"
      ],
      "metadata": {
        "id": "OE3Kb5wRc-cA"
      },
      "execution_count": null,
      "outputs": []
    },
    {
      "cell_type": "markdown",
      "source": [
        "# New Section"
      ],
      "metadata": {
        "id": "3MEin9eA2F6J"
      }
    },
    {
      "cell_type": "code",
      "source": [
        "! mkdir ~/.kaggle\n",
        "! cp kaggle.json ~/.kaggle/\n",
        "! chmod 600 ~/.kaggle/kaggle.json"
      ],
      "metadata": {
        "id": "7XaurT8AdFJ2"
      },
      "execution_count": 2,
      "outputs": []
    },
    {
      "cell_type": "code",
      "source": [
        "! kaggle datasets download alessiocorrado99/animals10"
      ],
      "metadata": {
        "id": "1GnQoLTCdiD4",
        "colab": {
          "base_uri": "https://localhost:8080/"
        },
        "outputId": "4646735f-0e4a-41a8-8338-5d4f34c859af"
      },
      "execution_count": 3,
      "outputs": [
        {
          "output_type": "stream",
          "name": "stdout",
          "text": [
            "Downloading animals10.zip to /content\n",
            " 98% 573M/586M [00:04<00:00, 125MB/s]\n",
            "100% 586M/586M [00:04<00:00, 129MB/s]\n"
          ]
        }
      ]
    },
    {
      "cell_type": "markdown",
      "source": [
        ""
      ],
      "metadata": {
        "id": "Ya3lLnijdIBt"
      }
    },
    {
      "cell_type": "code",
      "source": [
        "import tensorflow as tf\n",
        "from tensorflow import keras\n",
        "import sklearn\n",
        "import numpy as np\n",
        "np.random.seed(42)\n",
        "import matplotlib as mpl\n",
        "import matplotlib.pyplot as plt"
      ],
      "metadata": {
        "id": "4ZCLpBIKldhK"
      },
      "execution_count": 4,
      "outputs": []
    },
    {
      "cell_type": "code",
      "source": [
        "translate = {\"cane\": \"dog\", \"cavallo\": \"horse\", \"elefante\": \"elephant\", \n",
        "             \"farfalla\": \"butterfly\", \"gallina\": \"chicken\", \"gatto\": \"cat\", \n",
        "             \"mucca\": \"cow\", \"pecora\": \"sheep\", \"scoiattolo\": \"squirrel\", \n",
        "             \"dog\": \"cane\", \"cavallo\": \"horse\", \"elephant\" : \"elefante\", \n",
        "             \"butterfly\": \"farfalla\", \"chicken\": \"gallina\", \"cat\": \"gatto\", \n",
        "             \"cow\": \"mucca\", \"spider\": \"ragno\", \"squirrel\": \"scoiattolo\"}"
      ],
      "metadata": {
        "id": "O8wpV6M2eGR1"
      },
      "execution_count": 5,
      "outputs": []
    },
    {
      "cell_type": "code",
      "source": [
        "! unzip animals10.zip"
      ],
      "metadata": {
        "id": "8WIQJYuVi2OT"
      },
      "execution_count": null,
      "outputs": []
    },
    {
      "cell_type": "code",
      "source": [
        "train_dir = '/content/raw-img'\n"
      ],
      "metadata": {
        "id": "_4s3V-QLTWlP"
      },
      "execution_count": 7,
      "outputs": []
    },
    {
      "cell_type": "code",
      "source": [
        "train_datagen = tf.keras.preprocessing.image.ImageDataGenerator(validation_split=0.2)\n",
        "train_data = train_datagen.flow_from_directory(directory = train_dir,\n",
        "                                               target_size = (224, 224),\n",
        "                                               class_mode = 'categorical',\n",
        "                                               batch_size = 32,\n",
        "                                               subset = 'training')\n",
        "\n",
        "test_data = train_datagen.flow_from_directory(directory = train_dir,\n",
        "                                              target_size = (224, 224),\n",
        "                                              class_mode = 'categorical',\n",
        "                                              batch_size = 32,\n",
        "                                              subset = 'validation')"
      ],
      "metadata": {
        "colab": {
          "base_uri": "https://localhost:8080/"
        },
        "id": "DIr6uK_rnaYz",
        "outputId": "bd618ad6-05a5-4eaa-bd3e-82d72020c7de"
      },
      "execution_count": 8,
      "outputs": [
        {
          "output_type": "stream",
          "name": "stdout",
          "text": [
            "Found 20947 images belonging to 10 classes.\n",
            "Found 5232 images belonging to 10 classes.\n"
          ]
        }
      ]
    },
    {
      "cell_type": "code",
      "source": [
        "cnn = tf.keras.models.Sequential() #initializing the CNN\n",
        "cnn.add(tf.keras.layers.Conv2D(filters=16, kernel_size=3, activation=\"relu\", padding = \"valid\", input_shape=[224, 224, 3])) #Convolution 1\n",
        "cnn.add(tf.keras.layers.MaxPool2D(pool_size=2, strides=2)) #Pooling 1\n",
        "cnn.add(tf.keras.layers.Conv2D(filters=32, kernel_size=3, activation=\"relu\", padding = \"valid\")) #Convolution 2\n",
        "cnn.add(tf.keras.layers.Conv2D(filters=32, kernel_size=3, activation=\"relu\", padding = \"valid\")) #Convolution 3\n",
        "cnn.add(tf.keras.layers.MaxPool2D(pool_size=2, strides=2)) #Pooling 2\n",
        "cnn.add(tf.keras.layers.Conv2D(filters=64, kernel_size=3, activation=\"relu\", padding = \"valid\")) #Convolution 4\n",
        "cnn.add(tf.keras.layers.Conv2D(filters=64, kernel_size=3, activation=\"relu\", padding = \"valid\")) #Convolution 5\n",
        "cnn.add(tf.keras.layers.MaxPool2D(pool_size=2, strides=2)) #Pooling 3\n",
        "cnn.add(tf.keras.layers.Conv2D(filters=128, kernel_size=3, activation=\"relu\", padding = \"valid\")) #Convolution 6\n",
        "cnn.add(tf.keras.layers.Conv2D(filters=128, kernel_size=3, activation=\"relu\", padding = \"valid\")) #Convolution 7\n",
        "cnn.add(tf.keras.layers.MaxPool2D(pool_size=2, strides=2)) #Pooling 4\n",
        "cnn.add(tf.keras.layers.Conv2D(filters=256, kernel_size=3, activation=\"relu\", padding = \"valid\")) #Convolution 8\n",
        "cnn.add(tf.keras.layers.Conv2D(filters=256, kernel_size=3, activation=\"relu\", padding = \"valid\")) #Convolution 9\n",
        "cnn.add(tf.keras.layers.MaxPool2D(pool_size=2, strides=2)) #Pooling 5\n",
        "\n",
        "cnn.add(tf.keras.layers.Flatten()) #Flaterning\n",
        "cnn.add(tf.keras.layers.Dense(units=256, activation=\"relu\"))#Full Connection1\n",
        "tf.keras.layers.Dropout(0.5)\n",
        "cnn.add(tf.keras.layers.Dense(units=128, activation=\"relu\"))#Full Connection2\n",
        "tf.keras.layers.Dropout(0.25)\n",
        "cnn.add(tf.keras.layers.Dense(units=128, activation=\"relu\"))#Full Connection3\n",
        "tf.keras.layers.Dropout(0.25)\n",
        "cnn.add(tf.keras.layers.Dense(units= 10, activation= \"softmax\"))#Output layer.\n",
        "\n",
        "cnn.summary()\n",
        "\n",
        "cnn.compile(loss=\"categorical_crossentropy\", optimizer=\"adam\", metrics=[\"accuracy\"])\n",
        "\n",
        "history = cnn.fit(train_data, batch_size = 100, epochs=20, validation_data=test_data)\n",
        "\n",
        "\n"
      ],
      "metadata": {
        "id": "v8iQcVdauJqr",
        "colab": {
          "base_uri": "https://localhost:8080/"
        },
        "outputId": "f005d8df-4cde-4015-c304-5bf98728b8f6"
      },
      "execution_count": 9,
      "outputs": [
        {
          "output_type": "stream",
          "name": "stdout",
          "text": [
            "Model: \"sequential\"\n",
            "_________________________________________________________________\n",
            " Layer (type)                Output Shape              Param #   \n",
            "=================================================================\n",
            " conv2d (Conv2D)             (None, 222, 222, 16)      448       \n",
            "                                                                 \n",
            " max_pooling2d (MaxPooling2D  (None, 111, 111, 16)     0         \n",
            " )                                                               \n",
            "                                                                 \n",
            " conv2d_1 (Conv2D)           (None, 109, 109, 32)      4640      \n",
            "                                                                 \n",
            " conv2d_2 (Conv2D)           (None, 107, 107, 32)      9248      \n",
            "                                                                 \n",
            " max_pooling2d_1 (MaxPooling  (None, 53, 53, 32)       0         \n",
            " 2D)                                                             \n",
            "                                                                 \n",
            " conv2d_3 (Conv2D)           (None, 51, 51, 64)        18496     \n",
            "                                                                 \n",
            " conv2d_4 (Conv2D)           (None, 49, 49, 64)        36928     \n",
            "                                                                 \n",
            " max_pooling2d_2 (MaxPooling  (None, 24, 24, 64)       0         \n",
            " 2D)                                                             \n",
            "                                                                 \n",
            " conv2d_5 (Conv2D)           (None, 22, 22, 128)       73856     \n",
            "                                                                 \n",
            " conv2d_6 (Conv2D)           (None, 20, 20, 128)       147584    \n",
            "                                                                 \n",
            " max_pooling2d_3 (MaxPooling  (None, 10, 10, 128)      0         \n",
            " 2D)                                                             \n",
            "                                                                 \n",
            " conv2d_7 (Conv2D)           (None, 8, 8, 256)         295168    \n",
            "                                                                 \n",
            " conv2d_8 (Conv2D)           (None, 6, 6, 256)         590080    \n",
            "                                                                 \n",
            " max_pooling2d_4 (MaxPooling  (None, 3, 3, 256)        0         \n",
            " 2D)                                                             \n",
            "                                                                 \n",
            " flatten (Flatten)           (None, 2304)              0         \n",
            "                                                                 \n",
            " dense (Dense)               (None, 256)               590080    \n",
            "                                                                 \n",
            " dense_1 (Dense)             (None, 128)               32896     \n",
            "                                                                 \n",
            " dense_2 (Dense)             (None, 128)               16512     \n",
            "                                                                 \n",
            " dense_3 (Dense)             (None, 10)                1290      \n",
            "                                                                 \n",
            "=================================================================\n",
            "Total params: 1,817,226\n",
            "Trainable params: 1,817,226\n",
            "Non-trainable params: 0\n",
            "_________________________________________________________________\n",
            "Epoch 1/20\n",
            "655/655 [==============================] - 87s 114ms/step - loss: 1.9840 - accuracy: 0.3082 - val_loss: 1.7809 - val_accuracy: 0.3886\n",
            "Epoch 2/20\n",
            "655/655 [==============================] - 72s 110ms/step - loss: 1.7169 - accuracy: 0.4111 - val_loss: 1.6317 - val_accuracy: 0.4404\n",
            "Epoch 3/20\n",
            "655/655 [==============================] - 72s 110ms/step - loss: 1.5514 - accuracy: 0.4653 - val_loss: 1.4950 - val_accuracy: 0.4832\n",
            "Epoch 4/20\n",
            "655/655 [==============================] - 72s 110ms/step - loss: 1.3980 - accuracy: 0.5187 - val_loss: 1.4015 - val_accuracy: 0.5222\n",
            "Epoch 5/20\n",
            "655/655 [==============================] - 72s 110ms/step - loss: 1.2637 - accuracy: 0.5638 - val_loss: 1.3691 - val_accuracy: 0.5413\n",
            "Epoch 6/20\n",
            "655/655 [==============================] - 72s 110ms/step - loss: 1.1501 - accuracy: 0.6044 - val_loss: 1.2765 - val_accuracy: 0.5761\n",
            "Epoch 7/20\n",
            "655/655 [==============================] - 72s 110ms/step - loss: 1.0291 - accuracy: 0.6488 - val_loss: 1.1697 - val_accuracy: 0.6105\n",
            "Epoch 8/20\n",
            "655/655 [==============================] - 72s 110ms/step - loss: 0.9285 - accuracy: 0.6867 - val_loss: 1.2338 - val_accuracy: 0.6019\n",
            "Epoch 9/20\n",
            "655/655 [==============================] - 71s 109ms/step - loss: 0.8225 - accuracy: 0.7219 - val_loss: 1.2709 - val_accuracy: 0.5982\n",
            "Epoch 10/20\n",
            "655/655 [==============================] - 72s 110ms/step - loss: 0.7263 - accuracy: 0.7545 - val_loss: 1.3429 - val_accuracy: 0.5998\n",
            "Epoch 11/20\n",
            "655/655 [==============================] - 74s 113ms/step - loss: 0.6259 - accuracy: 0.7876 - val_loss: 1.3057 - val_accuracy: 0.5923\n",
            "Epoch 12/20\n",
            "655/655 [==============================] - 73s 112ms/step - loss: 0.5537 - accuracy: 0.8139 - val_loss: 1.4702 - val_accuracy: 0.6019\n",
            "Epoch 13/20\n",
            "655/655 [==============================] - 73s 111ms/step - loss: 0.4890 - accuracy: 0.8374 - val_loss: 1.4338 - val_accuracy: 0.6045\n",
            "Epoch 14/20\n",
            "655/655 [==============================] - 72s 110ms/step - loss: 0.4493 - accuracy: 0.8502 - val_loss: 1.5568 - val_accuracy: 0.6055\n",
            "Epoch 15/20\n",
            "655/655 [==============================] - 72s 110ms/step - loss: 0.3875 - accuracy: 0.8690 - val_loss: 1.6729 - val_accuracy: 0.6151\n",
            "Epoch 16/20\n",
            "655/655 [==============================] - 72s 110ms/step - loss: 0.3644 - accuracy: 0.8767 - val_loss: 1.5121 - val_accuracy: 0.6166\n",
            "Epoch 17/20\n",
            "655/655 [==============================] - 72s 110ms/step - loss: 0.3253 - accuracy: 0.8908 - val_loss: 1.8800 - val_accuracy: 0.6051\n",
            "Epoch 18/20\n",
            "655/655 [==============================] - 73s 111ms/step - loss: 0.3023 - accuracy: 0.8991 - val_loss: 1.8930 - val_accuracy: 0.6074\n",
            "Epoch 19/20\n",
            "655/655 [==============================] - 73s 111ms/step - loss: 0.2824 - accuracy: 0.9090 - val_loss: 1.8806 - val_accuracy: 0.5919\n",
            "Epoch 20/20\n",
            "655/655 [==============================] - 73s 111ms/step - loss: 0.2702 - accuracy: 0.9114 - val_loss: 2.0132 - val_accuracy: 0.6040\n"
          ]
        }
      ]
    },
    {
      "cell_type": "markdown",
      "source": [
        ""
      ],
      "metadata": {
        "id": "AQfndksOTTqm"
      }
    },
    {
      "cell_type": "code",
      "source": [
        "score = cnn.evaluate(test_data)"
      ],
      "metadata": {
        "id": "GEvhIa--eV7X",
        "colab": {
          "base_uri": "https://localhost:8080/"
        },
        "outputId": "19975f50-77c8-4e00-de0d-a10a9764dc6a"
      },
      "execution_count": 10,
      "outputs": [
        {
          "output_type": "stream",
          "name": "stdout",
          "text": [
            "164/164 [==============================] - 11s 66ms/step - loss: 2.0132 - accuracy: 0.6040\n"
          ]
        }
      ]
    },
    {
      "cell_type": "code",
      "source": [
        "print('Total loss on Testing Set:', score[0])"
      ],
      "metadata": {
        "colab": {
          "base_uri": "https://localhost:8080/"
        },
        "id": "Kpy-1nxcgZu7",
        "outputId": "f2f54e1a-1918-451a-fa64-57cd854353ed"
      },
      "execution_count": 11,
      "outputs": [
        {
          "output_type": "stream",
          "name": "stdout",
          "text": [
            "Total loss on Testing Set: 2.013155460357666\n"
          ]
        }
      ]
    },
    {
      "cell_type": "code",
      "source": [
        "print('Accuracy of Testing Set:', score[1])"
      ],
      "metadata": {
        "colab": {
          "base_uri": "https://localhost:8080/"
        },
        "id": "2E5-2AahgbTi",
        "outputId": "169c2e61-854f-4ac7-aff7-b973dde9eeb2"
      },
      "execution_count": 12,
      "outputs": [
        {
          "output_type": "stream",
          "name": "stdout",
          "text": [
            "Accuracy of Testing Set: 0.6039755344390869\n"
          ]
        }
      ]
    }
  ]
}